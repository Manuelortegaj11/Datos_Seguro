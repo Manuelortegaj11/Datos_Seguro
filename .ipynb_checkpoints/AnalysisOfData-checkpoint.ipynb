{
 "cells": [
  {
   "cell_type": "raw",
   "id": "87ff8794-94ca-47b1-8c4d-64f7c5cd076e",
   "metadata": {},
   "source": [
    "Importar la librería Pandas que servirá para la manipular y leer el archivo CSV.\n",
    "Importar la librería Matplotlib que permite muy fácilmente generar diversos tipos de gráficos.\n",
    "Importar la librería seaborn que permite visualización de gráficas más atractivas.\n",
    "Importar la librería numpy permite trabajar funciones matemáticas, algebraicas y la fácil manipulación de vectores y matrices."
   ]
  },
  {
   "cell_type": "code",
   "execution_count": 1,
   "id": "316779e5-e5af-4fc6-8dfd-60f8382d1ff3",
   "metadata": {},
   "outputs": [],
   "source": [
    "import pandas as pd\n",
    "import matplotlib.pyplot as plt\n",
    "import numpy as np\n",
    "import seaborn as sns"
   ]
  },
  {
   "cell_type": "code",
   "execution_count": 2,
   "id": "b337374c-d33a-4870-8ac8-fce58da89c01",
   "metadata": {
    "tags": []
   },
   "outputs": [],
   "source": [
    "df = pd.read_csv(\"DatosSeguros.csv\")"
   ]
  },
  {
   "cell_type": "raw",
   "id": "a6572312-2ee5-4280-8879-36251c27801d",
   "metadata": {},
   "source": [
    "Identificar de los datos:"
   ]
  },
  {
   "cell_type": "code",
   "execution_count": 3,
   "id": "710f3e03-2658-445d-8b56-1d41a6b109aa",
   "metadata": {
    "tags": []
   },
   "outputs": [
    {
     "name": "stdout",
     "output_type": "stream",
     "text": [
      "<class 'pandas.core.frame.DataFrame'>\n",
      "RangeIndex: 1349 entries, 0 to 1348\n",
      "Data columns (total 7 columns):\n",
      " #   Column        Non-Null Count  Dtype  \n",
      "---  ------        --------------  -----  \n",
      " 0   edad          1349 non-null   int64  \n",
      " 1   sexo          1349 non-null   object \n",
      " 2   imc           1347 non-null   float64\n",
      " 3   hijos         1349 non-null   int64  \n",
      " 4   fumador       1347 non-null   object \n",
      " 5   region        1349 non-null   object \n",
      " 6   valor_seguro  1349 non-null   float64\n",
      "dtypes: float64(2), int64(2), object(3)\n",
      "memory usage: 73.9+ KB\n"
     ]
    }
   ],
   "source": [
    "df.info()"
   ]
  },
  {
   "cell_type": "raw",
   "id": "b9a820f1-7f12-4380-bc3e-af6ba081d4ae",
   "metadata": {
    "tags": []
   },
   "source": [
    "Detectar y sumar registros nulos por cada columna:"
   ]
  },
  {
   "cell_type": "code",
   "execution_count": 4,
   "id": "488e37e0-e920-401e-8e3c-71983513496f",
   "metadata": {
    "tags": []
   },
   "outputs": [
    {
     "data": {
      "text/plain": [
       "edad            0\n",
       "sexo            0\n",
       "imc             2\n",
       "hijos           0\n",
       "fumador         2\n",
       "region          0\n",
       "valor_seguro    0\n",
       "dtype: int64"
      ]
     },
     "execution_count": 4,
     "metadata": {},
     "output_type": "execute_result"
    }
   ],
   "source": [
    "df.isnull().sum()"
   ]
  },
  {
   "cell_type": "raw",
   "id": "9e3a8e2b-f6d3-4268-88e6-a8a0aac3fb36",
   "metadata": {
    "tags": []
   },
   "source": [
    "Eliminar de los datos originales las filas con valores nulos:"
   ]
  },
  {
   "cell_type": "code",
   "execution_count": 5,
   "id": "eff10ce3-5a1b-4a2d-bdc9-016834e30f6d",
   "metadata": {
    "tags": []
   },
   "outputs": [],
   "source": [
    "df = df.dropna()"
   ]
  },
  {
   "cell_type": "raw",
   "id": "4e23d053-c1d0-4167-a4dc-8833275c5420",
   "metadata": {},
   "source": [
    "Identificar de los datos"
   ]
  },
  {
   "cell_type": "code",
   "execution_count": 6,
   "id": "58a16a81-13b6-4ad0-9266-494153f3185d",
   "metadata": {
    "tags": []
   },
   "outputs": [
    {
     "name": "stdout",
     "output_type": "stream",
     "text": [
      "<class 'pandas.core.frame.DataFrame'>\n",
      "Index: 1345 entries, 0 to 1348\n",
      "Data columns (total 7 columns):\n",
      " #   Column        Non-Null Count  Dtype  \n",
      "---  ------        --------------  -----  \n",
      " 0   edad          1345 non-null   int64  \n",
      " 1   sexo          1345 non-null   object \n",
      " 2   imc           1345 non-null   float64\n",
      " 3   hijos         1345 non-null   int64  \n",
      " 4   fumador       1345 non-null   object \n",
      " 5   region        1345 non-null   object \n",
      " 6   valor_seguro  1345 non-null   float64\n",
      "dtypes: float64(2), int64(2), object(3)\n",
      "memory usage: 84.1+ KB\n"
     ]
    }
   ],
   "source": [
    "df.info()"
   ]
  },
  {
   "cell_type": "raw",
   "id": "28392299-026f-4cbb-ab5b-b479ef235b6a",
   "metadata": {
    "tags": []
   },
   "source": [
    "Eliminar datos duplicados"
   ]
  },
  {
   "cell_type": "code",
   "execution_count": 7,
   "id": "9c73c5ff-d45a-4486-967b-0c0aac3c6535",
   "metadata": {
    "tags": []
   },
   "outputs": [],
   "source": [
    "df = df.drop_duplicates()"
   ]
  },
  {
   "cell_type": "raw",
   "id": "96e702f0-f1e4-429b-af17-7b57163b70cb",
   "metadata": {},
   "source": [
    "Identificar de los datos"
   ]
  },
  {
   "cell_type": "code",
   "execution_count": 8,
   "id": "4dbe3ac3-ad25-4c96-a1b0-86cfe534db1f",
   "metadata": {
    "tags": []
   },
   "outputs": [
    {
     "name": "stdout",
     "output_type": "stream",
     "text": [
      "<class 'pandas.core.frame.DataFrame'>\n",
      "Index: 1333 entries, 0 to 1347\n",
      "Data columns (total 7 columns):\n",
      " #   Column        Non-Null Count  Dtype  \n",
      "---  ------        --------------  -----  \n",
      " 0   edad          1333 non-null   int64  \n",
      " 1   sexo          1333 non-null   object \n",
      " 2   imc           1333 non-null   float64\n",
      " 3   hijos         1333 non-null   int64  \n",
      " 4   fumador       1333 non-null   object \n",
      " 5   region        1333 non-null   object \n",
      " 6   valor_seguro  1333 non-null   float64\n",
      "dtypes: float64(2), int64(2), object(3)\n",
      "memory usage: 83.3+ KB\n"
     ]
    }
   ],
   "source": [
    "df.info()"
   ]
  },
  {
   "cell_type": "raw",
   "id": "96ca78af-cf49-409f-a839-45ce03a74f42",
   "metadata": {},
   "source": [
    "Ordenar datos"
   ]
  },
  {
   "cell_type": "raw",
   "id": "c0e168ce-9a6c-4bf7-8a14-7e6aa8ad5db6",
   "metadata": {},
   "source": [
    "Datos ordenados por la edad de menor a mayor:"
   ]
  },
  {
   "cell_type": "code",
   "execution_count": 9,
   "id": "349b97fd-58d6-42c5-bf7b-cc4e25b43fe9",
   "metadata": {
    "tags": []
   },
   "outputs": [
    {
     "data": {
      "text/html": [
       "<div>\n",
       "<style scoped>\n",
       "    .dataframe tbody tr th:only-of-type {\n",
       "        vertical-align: middle;\n",
       "    }\n",
       "\n",
       "    .dataframe tbody tr th {\n",
       "        vertical-align: top;\n",
       "    }\n",
       "\n",
       "    .dataframe thead th {\n",
       "        text-align: right;\n",
       "    }\n",
       "</style>\n",
       "<table border=\"1\" class=\"dataframe\">\n",
       "  <thead>\n",
       "    <tr style=\"text-align: right;\">\n",
       "      <th></th>\n",
       "      <th>edad</th>\n",
       "      <th>sexo</th>\n",
       "      <th>imc</th>\n",
       "      <th>hijos</th>\n",
       "      <th>fumador</th>\n",
       "      <th>region</th>\n",
       "      <th>valor_seguro</th>\n",
       "    </tr>\n",
       "  </thead>\n",
       "  <tbody>\n",
       "    <tr>\n",
       "      <th>1097</th>\n",
       "      <td>18</td>\n",
       "      <td>F</td>\n",
       "      <td>31.350</td>\n",
       "      <td>4</td>\n",
       "      <td>no</td>\n",
       "      <td>Boyaca</td>\n",
       "      <td>4561.18850</td>\n",
       "    </tr>\n",
       "    <tr>\n",
       "      <th>59</th>\n",
       "      <td>18</td>\n",
       "      <td>M</td>\n",
       "      <td>31.680</td>\n",
       "      <td>2</td>\n",
       "      <td>yes</td>\n",
       "      <td>Cundinamarca</td>\n",
       "      <td>34303.16720</td>\n",
       "    </tr>\n",
       "    <tr>\n",
       "      <th>1251</th>\n",
       "      <td>18</td>\n",
       "      <td>M</td>\n",
       "      <td>33.330</td>\n",
       "      <td>0</td>\n",
       "      <td>no</td>\n",
       "      <td>Cundinamarca</td>\n",
       "      <td>1135.94070</td>\n",
       "    </tr>\n",
       "    <tr>\n",
       "      <th>297</th>\n",
       "      <td>18</td>\n",
       "      <td>M</td>\n",
       "      <td>22.990</td>\n",
       "      <td>0</td>\n",
       "      <td>no</td>\n",
       "      <td>Boyaca</td>\n",
       "      <td>1704.56810</td>\n",
       "    </tr>\n",
       "    <tr>\n",
       "      <th>1255</th>\n",
       "      <td>18</td>\n",
       "      <td>F</td>\n",
       "      <td>39.820</td>\n",
       "      <td>0</td>\n",
       "      <td>no</td>\n",
       "      <td>Cundinamarca</td>\n",
       "      <td>1633.96180</td>\n",
       "    </tr>\n",
       "    <tr>\n",
       "      <th>944</th>\n",
       "      <td>18</td>\n",
       "      <td>F</td>\n",
       "      <td>40.185</td>\n",
       "      <td>0</td>\n",
       "      <td>no</td>\n",
       "      <td>Boyaca</td>\n",
       "      <td>2217.46915</td>\n",
       "    </tr>\n",
       "    <tr>\n",
       "      <th>1152</th>\n",
       "      <td>18</td>\n",
       "      <td>F</td>\n",
       "      <td>30.305</td>\n",
       "      <td>0</td>\n",
       "      <td>no</td>\n",
       "      <td>Boyaca</td>\n",
       "      <td>2203.73595</td>\n",
       "    </tr>\n",
       "    <tr>\n",
       "      <th>665</th>\n",
       "      <td>18</td>\n",
       "      <td>M</td>\n",
       "      <td>33.660</td>\n",
       "      <td>0</td>\n",
       "      <td>no</td>\n",
       "      <td>Cundinamarca</td>\n",
       "      <td>1136.39940</td>\n",
       "    </tr>\n",
       "    <tr>\n",
       "      <th>52</th>\n",
       "      <td>18</td>\n",
       "      <td>F</td>\n",
       "      <td>35.625</td>\n",
       "      <td>0</td>\n",
       "      <td>no</td>\n",
       "      <td>Boyaca</td>\n",
       "      <td>2211.13075</td>\n",
       "    </tr>\n",
       "    <tr>\n",
       "      <th>650</th>\n",
       "      <td>18</td>\n",
       "      <td>M</td>\n",
       "      <td>28.500</td>\n",
       "      <td>0</td>\n",
       "      <td>no</td>\n",
       "      <td>Boyaca</td>\n",
       "      <td>1712.22700</td>\n",
       "    </tr>\n",
       "  </tbody>\n",
       "</table>\n",
       "</div>"
      ],
      "text/plain": [
       "      edad sexo     imc  hijos fumador        region  valor_seguro\n",
       "1097    18    F  31.350      4      no        Boyaca    4561.18850\n",
       "59      18    M  31.680      2     yes  Cundinamarca   34303.16720\n",
       "1251    18    M  33.330      0      no  Cundinamarca    1135.94070\n",
       "297     18    M  22.990      0      no        Boyaca    1704.56810\n",
       "1255    18    F  39.820      0      no  Cundinamarca    1633.96180\n",
       "944     18    F  40.185      0      no        Boyaca    2217.46915\n",
       "1152    18    F  30.305      0      no        Boyaca    2203.73595\n",
       "665     18    M  33.660      0      no  Cundinamarca    1136.39940\n",
       "52      18    F  35.625      0      no        Boyaca    2211.13075\n",
       "650     18    M  28.500      0      no        Boyaca    1712.22700"
      ]
     },
     "execution_count": 9,
     "metadata": {},
     "output_type": "execute_result"
    }
   ],
   "source": [
    "edad = df.sort_values(\"edad\")\n",
    "edad.head(10)"
   ]
  },
  {
   "cell_type": "raw",
   "id": "e286c965-2d10-4368-ad3b-b9f2e0d587b0",
   "metadata": {},
   "source": [
    "Datos ordenados por la edad de mayor a menor:"
   ]
  },
  {
   "cell_type": "code",
   "execution_count": 10,
   "id": "e19f4194-ac71-4568-a653-e67158747a61",
   "metadata": {
    "tags": []
   },
   "outputs": [
    {
     "data": {
      "text/html": [
       "<div>\n",
       "<style scoped>\n",
       "    .dataframe tbody tr th:only-of-type {\n",
       "        vertical-align: middle;\n",
       "    }\n",
       "\n",
       "    .dataframe tbody tr th {\n",
       "        vertical-align: top;\n",
       "    }\n",
       "\n",
       "    .dataframe thead th {\n",
       "        text-align: right;\n",
       "    }\n",
       "</style>\n",
       "<table border=\"1\" class=\"dataframe\">\n",
       "  <thead>\n",
       "    <tr style=\"text-align: right;\">\n",
       "      <th></th>\n",
       "      <th>edad</th>\n",
       "      <th>sexo</th>\n",
       "      <th>imc</th>\n",
       "      <th>hijos</th>\n",
       "      <th>fumador</th>\n",
       "      <th>region</th>\n",
       "      <th>valor_seguro</th>\n",
       "    </tr>\n",
       "  </thead>\n",
       "  <tbody>\n",
       "    <tr>\n",
       "      <th>422</th>\n",
       "      <td>64</td>\n",
       "      <td>M</td>\n",
       "      <td>33.880</td>\n",
       "      <td>0</td>\n",
       "      <td>yes</td>\n",
       "      <td>Cundinamarca</td>\n",
       "      <td>46889.26120</td>\n",
       "    </tr>\n",
       "    <tr>\n",
       "      <th>754</th>\n",
       "      <td>64</td>\n",
       "      <td>M</td>\n",
       "      <td>37.905</td>\n",
       "      <td>0</td>\n",
       "      <td>no</td>\n",
       "      <td>Antioquia</td>\n",
       "      <td>14210.53595</td>\n",
       "    </tr>\n",
       "    <tr>\n",
       "      <th>404</th>\n",
       "      <td>64</td>\n",
       "      <td>F</td>\n",
       "      <td>32.965</td>\n",
       "      <td>0</td>\n",
       "      <td>no</td>\n",
       "      <td>Antioquia</td>\n",
       "      <td>14692.66935</td>\n",
       "    </tr>\n",
       "    <tr>\n",
       "      <th>420</th>\n",
       "      <td>64</td>\n",
       "      <td>M</td>\n",
       "      <td>39.160</td>\n",
       "      <td>1</td>\n",
       "      <td>no</td>\n",
       "      <td>Cundinamarca</td>\n",
       "      <td>14418.28040</td>\n",
       "    </tr>\n",
       "    <tr>\n",
       "      <th>380</th>\n",
       "      <td>64</td>\n",
       "      <td>F</td>\n",
       "      <td>30.115</td>\n",
       "      <td>3</td>\n",
       "      <td>no</td>\n",
       "      <td>Antioquia</td>\n",
       "      <td>16455.70785</td>\n",
       "    </tr>\n",
       "    <tr>\n",
       "      <th>1053</th>\n",
       "      <td>64</td>\n",
       "      <td>M</td>\n",
       "      <td>26.410</td>\n",
       "      <td>0</td>\n",
       "      <td>no</td>\n",
       "      <td>Boyaca</td>\n",
       "      <td>14394.55790</td>\n",
       "    </tr>\n",
       "    <tr>\n",
       "      <th>827</th>\n",
       "      <td>64</td>\n",
       "      <td>F</td>\n",
       "      <td>31.825</td>\n",
       "      <td>2</td>\n",
       "      <td>no</td>\n",
       "      <td>Boyaca</td>\n",
       "      <td>16069.08475</td>\n",
       "    </tr>\n",
       "    <tr>\n",
       "      <th>1248</th>\n",
       "      <td>64</td>\n",
       "      <td>M</td>\n",
       "      <td>36.960</td>\n",
       "      <td>2</td>\n",
       "      <td>yes</td>\n",
       "      <td>Cundinamarca</td>\n",
       "      <td>49577.66240</td>\n",
       "    </tr>\n",
       "    <tr>\n",
       "      <th>803</th>\n",
       "      <td>64</td>\n",
       "      <td>F</td>\n",
       "      <td>35.970</td>\n",
       "      <td>0</td>\n",
       "      <td>no</td>\n",
       "      <td>Cundinamarca</td>\n",
       "      <td>14313.84630</td>\n",
       "    </tr>\n",
       "    <tr>\n",
       "      <th>337</th>\n",
       "      <td>64</td>\n",
       "      <td>M</td>\n",
       "      <td>34.500</td>\n",
       "      <td>0</td>\n",
       "      <td>no</td>\n",
       "      <td>Caribe</td>\n",
       "      <td>13822.80300</td>\n",
       "    </tr>\n",
       "  </tbody>\n",
       "</table>\n",
       "</div>"
      ],
      "text/plain": [
       "      edad sexo     imc  hijos fumador        region  valor_seguro\n",
       "422     64    M  33.880      0     yes  Cundinamarca   46889.26120\n",
       "754     64    M  37.905      0      no     Antioquia   14210.53595\n",
       "404     64    F  32.965      0      no     Antioquia   14692.66935\n",
       "420     64    M  39.160      1      no  Cundinamarca   14418.28040\n",
       "380     64    F  30.115      3      no     Antioquia   16455.70785\n",
       "1053    64    M  26.410      0      no        Boyaca   14394.55790\n",
       "827     64    F  31.825      2      no        Boyaca   16069.08475\n",
       "1248    64    M  36.960      2     yes  Cundinamarca   49577.66240\n",
       "803     64    F  35.970      0      no  Cundinamarca   14313.84630\n",
       "337     64    M  34.500      0      no        Caribe   13822.80300"
      ]
     },
     "execution_count": 10,
     "metadata": {},
     "output_type": "execute_result"
    }
   ],
   "source": [
    "edad = df.sort_values(\"edad\",ascending=False)\n",
    "edad.head(10)"
   ]
  },
  {
   "cell_type": "raw",
   "id": "1f77f14f-cf28-43ee-a044-8d19b46d714f",
   "metadata": {},
   "source": [
    "Agrupar los datos por edad"
   ]
  },
  {
   "cell_type": "raw",
   "id": "e2add03f-a743-4417-b759-9e90e7153ed3",
   "metadata": {},
   "source": [
    "Estableciendo nombre de cada rango"
   ]
  },
  {
   "cell_type": "code",
   "execution_count": 11,
   "id": "da813be4-6c9a-4b73-bc77-c29632384fcf",
   "metadata": {
    "tags": []
   },
   "outputs": [],
   "source": [
    "rangos = [17,28,38,48,58,68]\n",
    "nombrerango = [\"A\",\"B\",\"C\",\"D\",\"E\"]"
   ]
  },
  {
   "cell_type": "raw",
   "id": "9c04eaec-b924-4e3f-9bf1-e7bbc776eb94",
   "metadata": {},
   "source": [
    "Crear nueva variable(columna)"
   ]
  },
  {
   "cell_type": "code",
   "execution_count": 12,
   "id": "863589dd-4405-4c3c-8c83-0da2cfdcbaaa",
   "metadata": {
    "tags": []
   },
   "outputs": [],
   "source": [
    "df['Rango_Edad'] = pd.cut(df['edad'], rangos, labels=nombrerango)"
   ]
  },
  {
   "cell_type": "code",
   "execution_count": 13,
   "id": "a21b8e61-64f5-48e0-b5a4-261469867e77",
   "metadata": {
    "tags": []
   },
   "outputs": [
    {
     "data": {
      "text/html": [
       "<div>\n",
       "<style scoped>\n",
       "    .dataframe tbody tr th:only-of-type {\n",
       "        vertical-align: middle;\n",
       "    }\n",
       "\n",
       "    .dataframe tbody tr th {\n",
       "        vertical-align: top;\n",
       "    }\n",
       "\n",
       "    .dataframe thead th {\n",
       "        text-align: right;\n",
       "    }\n",
       "</style>\n",
       "<table border=\"1\" class=\"dataframe\">\n",
       "  <thead>\n",
       "    <tr style=\"text-align: right;\">\n",
       "      <th></th>\n",
       "      <th>edad</th>\n",
       "      <th>sexo</th>\n",
       "      <th>imc</th>\n",
       "      <th>hijos</th>\n",
       "      <th>fumador</th>\n",
       "      <th>region</th>\n",
       "      <th>valor_seguro</th>\n",
       "      <th>Rango_Edad</th>\n",
       "    </tr>\n",
       "  </thead>\n",
       "  <tbody>\n",
       "    <tr>\n",
       "      <th>0</th>\n",
       "      <td>19</td>\n",
       "      <td>F</td>\n",
       "      <td>27.900</td>\n",
       "      <td>0</td>\n",
       "      <td>yes</td>\n",
       "      <td>Caribe</td>\n",
       "      <td>16884.92400</td>\n",
       "      <td>A</td>\n",
       "    </tr>\n",
       "    <tr>\n",
       "      <th>3</th>\n",
       "      <td>18</td>\n",
       "      <td>M</td>\n",
       "      <td>33.770</td>\n",
       "      <td>1</td>\n",
       "      <td>no</td>\n",
       "      <td>Cundinamarca</td>\n",
       "      <td>1725.55230</td>\n",
       "      <td>A</td>\n",
       "    </tr>\n",
       "    <tr>\n",
       "      <th>4</th>\n",
       "      <td>28</td>\n",
       "      <td>M</td>\n",
       "      <td>33.000</td>\n",
       "      <td>3</td>\n",
       "      <td>no</td>\n",
       "      <td>Cundinamarca</td>\n",
       "      <td>4449.46200</td>\n",
       "      <td>A</td>\n",
       "    </tr>\n",
       "    <tr>\n",
       "      <th>5</th>\n",
       "      <td>33</td>\n",
       "      <td>M</td>\n",
       "      <td>22.705</td>\n",
       "      <td>0</td>\n",
       "      <td>no</td>\n",
       "      <td>Antioquia</td>\n",
       "      <td>21984.47061</td>\n",
       "      <td>B</td>\n",
       "    </tr>\n",
       "    <tr>\n",
       "      <th>6</th>\n",
       "      <td>32</td>\n",
       "      <td>M</td>\n",
       "      <td>28.880</td>\n",
       "      <td>0</td>\n",
       "      <td>no</td>\n",
       "      <td>Antioquia</td>\n",
       "      <td>3866.85520</td>\n",
       "      <td>B</td>\n",
       "    </tr>\n",
       "    <tr>\n",
       "      <th>7</th>\n",
       "      <td>31</td>\n",
       "      <td>F</td>\n",
       "      <td>25.740</td>\n",
       "      <td>0</td>\n",
       "      <td>no</td>\n",
       "      <td>Cundinamarca</td>\n",
       "      <td>3756.62160</td>\n",
       "      <td>B</td>\n",
       "    </tr>\n",
       "    <tr>\n",
       "      <th>8</th>\n",
       "      <td>46</td>\n",
       "      <td>F</td>\n",
       "      <td>33.440</td>\n",
       "      <td>1</td>\n",
       "      <td>no</td>\n",
       "      <td>Cundinamarca</td>\n",
       "      <td>8240.58960</td>\n",
       "      <td>C</td>\n",
       "    </tr>\n",
       "    <tr>\n",
       "      <th>9</th>\n",
       "      <td>37</td>\n",
       "      <td>F</td>\n",
       "      <td>27.740</td>\n",
       "      <td>3</td>\n",
       "      <td>no</td>\n",
       "      <td>Antioquia</td>\n",
       "      <td>7281.50560</td>\n",
       "      <td>B</td>\n",
       "    </tr>\n",
       "    <tr>\n",
       "      <th>10</th>\n",
       "      <td>37</td>\n",
       "      <td>M</td>\n",
       "      <td>29.830</td>\n",
       "      <td>2</td>\n",
       "      <td>no</td>\n",
       "      <td>Boyaca</td>\n",
       "      <td>6406.41070</td>\n",
       "      <td>B</td>\n",
       "    </tr>\n",
       "    <tr>\n",
       "      <th>11</th>\n",
       "      <td>60</td>\n",
       "      <td>F</td>\n",
       "      <td>25.840</td>\n",
       "      <td>0</td>\n",
       "      <td>no</td>\n",
       "      <td>Antioquia</td>\n",
       "      <td>28923.13692</td>\n",
       "      <td>E</td>\n",
       "    </tr>\n",
       "  </tbody>\n",
       "</table>\n",
       "</div>"
      ],
      "text/plain": [
       "    edad sexo     imc  hijos fumador        region  valor_seguro Rango_Edad\n",
       "0     19    F  27.900      0     yes        Caribe   16884.92400          A\n",
       "3     18    M  33.770      1      no  Cundinamarca    1725.55230          A\n",
       "4     28    M  33.000      3      no  Cundinamarca    4449.46200          A\n",
       "5     33    M  22.705      0      no     Antioquia   21984.47061          B\n",
       "6     32    M  28.880      0      no     Antioquia    3866.85520          B\n",
       "7     31    F  25.740      0      no  Cundinamarca    3756.62160          B\n",
       "8     46    F  33.440      1      no  Cundinamarca    8240.58960          C\n",
       "9     37    F  27.740      3      no     Antioquia    7281.50560          B\n",
       "10    37    M  29.830      2      no        Boyaca    6406.41070          B\n",
       "11    60    F  25.840      0      no     Antioquia   28923.13692          E"
      ]
     },
     "execution_count": 13,
     "metadata": {},
     "output_type": "execute_result"
    }
   ],
   "source": [
    "df.head(10)"
   ]
  },
  {
   "cell_type": "raw",
   "id": "0767aca0-ce1e-462c-a3db-4082e9cf3166",
   "metadata": {},
   "source": [
    "Medidas de tendencia central y de dispersion"
   ]
  },
  {
   "cell_type": "code",
   "execution_count": 14,
   "id": "8ce8b3f1-343c-4f7d-b909-d5403dfd3eb6",
   "metadata": {
    "tags": []
   },
   "outputs": [
    {
     "data": {
      "text/html": [
       "<div>\n",
       "<style scoped>\n",
       "    .dataframe tbody tr th:only-of-type {\n",
       "        vertical-align: middle;\n",
       "    }\n",
       "\n",
       "    .dataframe tbody tr th {\n",
       "        vertical-align: top;\n",
       "    }\n",
       "\n",
       "    .dataframe thead th {\n",
       "        text-align: right;\n",
       "    }\n",
       "</style>\n",
       "<table border=\"1\" class=\"dataframe\">\n",
       "  <thead>\n",
       "    <tr style=\"text-align: right;\">\n",
       "      <th></th>\n",
       "      <th>edad</th>\n",
       "      <th>imc</th>\n",
       "      <th>hijos</th>\n",
       "      <th>valor_seguro</th>\n",
       "    </tr>\n",
       "  </thead>\n",
       "  <tbody>\n",
       "    <tr>\n",
       "      <th>count</th>\n",
       "      <td>1333.000000</td>\n",
       "      <td>1333.000000</td>\n",
       "      <td>1333.000000</td>\n",
       "      <td>1333.000000</td>\n",
       "    </tr>\n",
       "    <tr>\n",
       "      <th>mean</th>\n",
       "      <td>39.195049</td>\n",
       "      <td>30.652097</td>\n",
       "      <td>1.092273</td>\n",
       "      <td>13261.908454</td>\n",
       "    </tr>\n",
       "    <tr>\n",
       "      <th>std</th>\n",
       "      <td>14.052008</td>\n",
       "      <td>6.097609</td>\n",
       "      <td>1.205484</td>\n",
       "      <td>12093.507648</td>\n",
       "    </tr>\n",
       "    <tr>\n",
       "      <th>min</th>\n",
       "      <td>18.000000</td>\n",
       "      <td>15.960000</td>\n",
       "      <td>0.000000</td>\n",
       "      <td>1121.873900</td>\n",
       "    </tr>\n",
       "    <tr>\n",
       "      <th>25%</th>\n",
       "      <td>27.000000</td>\n",
       "      <td>26.220000</td>\n",
       "      <td>0.000000</td>\n",
       "      <td>4738.268200</td>\n",
       "    </tr>\n",
       "    <tr>\n",
       "      <th>50%</th>\n",
       "      <td>39.000000</td>\n",
       "      <td>30.360000</td>\n",
       "      <td>1.000000</td>\n",
       "      <td>9377.904700</td>\n",
       "    </tr>\n",
       "    <tr>\n",
       "      <th>75%</th>\n",
       "      <td>51.000000</td>\n",
       "      <td>34.675000</td>\n",
       "      <td>2.000000</td>\n",
       "      <td>16657.717450</td>\n",
       "    </tr>\n",
       "    <tr>\n",
       "      <th>max</th>\n",
       "      <td>64.000000</td>\n",
       "      <td>53.130000</td>\n",
       "      <td>5.000000</td>\n",
       "      <td>63770.428010</td>\n",
       "    </tr>\n",
       "  </tbody>\n",
       "</table>\n",
       "</div>"
      ],
      "text/plain": [
       "              edad          imc        hijos  valor_seguro\n",
       "count  1333.000000  1333.000000  1333.000000   1333.000000\n",
       "mean     39.195049    30.652097     1.092273  13261.908454\n",
       "std      14.052008     6.097609     1.205484  12093.507648\n",
       "min      18.000000    15.960000     0.000000   1121.873900\n",
       "25%      27.000000    26.220000     0.000000   4738.268200\n",
       "50%      39.000000    30.360000     1.000000   9377.904700\n",
       "75%      51.000000    34.675000     2.000000  16657.717450\n",
       "max      64.000000    53.130000     5.000000  63770.428010"
      ]
     },
     "execution_count": 14,
     "metadata": {},
     "output_type": "execute_result"
    }
   ],
   "source": [
    "df.describe()"
   ]
  },
  {
   "cell_type": "raw",
   "id": "72f42784-38e7-4bf7-a1e8-e16944317199",
   "metadata": {},
   "source": [
    "Comparación entre el total de fumadores contra los que pagan más por el valor del seguro."
   ]
  },
  {
   "cell_type": "raw",
   "id": "6bf7aca6-97af-4326-b181-be5f20bf7ecd",
   "metadata": {
    "tags": []
   },
   "source": [
    "1-Análisis unitario distribución fumadores y no fumadores:"
   ]
  },
  {
   "cell_type": "raw",
   "id": "6aec7e08-960c-47ff-9cc1-908c5d6127f9",
   "metadata": {
    "tags": []
   },
   "source": [
    "fig, ax = plt.subplots(): Esta línea crea una figura y un conjunto de ejes en los que se dibujará la gráfica. fig representa la figura completa, mientras que ax representa los ejes individuales en los que se trazarán los elementos de la gráfica.\n",
    "\n",
    "labels, counts = df[\"fumador\"].value_counts().index, df[\"fumador\"].value_counts().values: Aquí se calculan los valores únicos y sus conteos en la columna \"fumador\" del DataFrame df. La función value_counts() cuenta cuántas veces aparece cada valor en la columna. Usamos .index para obtener los valores únicos y .values para obtener los conteos correspondientes. Estos valores se asignan a las variables labels (etiquetas) y counts (conteos).\n",
    "\n",
    "colors = [\"lightskyblue\", \"lightcoral\"]: Aquí se define una lista de colores para utilizar en las secciones de la gráfica. En este caso, se usan los colores \"lightskyblue\" (azul claro) y \"lightcoral\" (coral claro).\n",
    "\n",
    "ax.pie(counts, labels=labels, colors=colors, autopct=\"%1.1f%%\", startangle=90): Esta línea dibuja la gráfica circular utilizando el método pie() de los ejes ax. Se le pasan los siguientes parámetros:\n",
    "\n",
    "counts: Los conteos de cada valor único en la columna \"fumador\".\n",
    "labels: Las etiquetas correspondientes a cada valor único en la columna \"fumador\".\n",
    "colors: La lista de colores para las secciones de la gráfica.\n",
    "autopct=\"%1.1f%%\": Esta opción muestra los porcentajes en cada sección de la gráfica con un formato específico, en este caso, con un decimal y el símbolo \"%\" al final.\n",
    "startangle=90: Este parámetro define el ángulo de inicio de la gráfica circular. En este caso, se establece en 90 grados (ubicación vertical).\n",
    "ax.set_title(\"Distribución porcentual de fumadores\"): Aquí se agrega un título a la gráfica utilizando el método set_title() de los ejes ax. El título se establece como \"Distribución porcentual de fumadores\".\n",
    "\n",
    "ax.axis(\"equal\"): Esta línea ajusta los ejes para que tengan la misma escala en ambos ejes, lo que asegura que la gráfica circular se muestre como un círculo en lugar de una elipse.\n",
    "\n",
    "plt.show(): Finalmente, esta función muestra la gráfica completa.\n",
    "\n",
    "El código genera una gráfica circular que muestra la distribución porcentual de los valores \"yes\" y \"no\" en la columna \"fumador\" de tu DataFrame. Cada sección de la gráfica representa el porcentaje correspondiente y está etiquetada con el valor y el porcentaje."
   ]
  },
  {
   "cell_type": "code",
   "execution_count": 15,
   "id": "da70088b-b900-4307-b97a-02d011619b73",
   "metadata": {
    "tags": []
   },
   "outputs": [
    {
     "data": {
      "image/png": "[encoded data removed]",
      "text/plain": [
       "<Figure size 640x480 with 1 Axes>"
      ]
     },
     "metadata": {},
     "output_type": "display_data"
    }
   ],
   "source": [
    "fig, ax = plt.subplots()\n",
    "\n",
    "labels, counts = df[\"fumador\"].value_counts().index, df[\"fumador\"].value_counts().values\n",
    "\n",
    "colors = [\"lightskyblue\", \"lightcoral\"]\n",
    "ax.pie(counts, labels=labels, colors=colors, autopct=\"%1.1f%%\", startangle=90)\n",
    "\n",
    "ax.set_title(\"Distribución porcentual de fumadores\")\n",
    "ax.axis(\"equal\")\n",
    "plt.show()"
   ]
  },
  {
   "cell_type": "raw",
   "id": "a78b2293-4e3d-4c07-84a3-64329eb11cfa",
   "metadata": {
    "tags": []
   },
   "source": [
    "2-Distribución de valores de seguro pagados por fumadores y no fumadores:"
   ]
  },
  {
   "cell_type": "raw",
   "id": "2e3835f8-d508-4e64-b710-249cf79a6728",
   "metadata": {
    "tags": []
   },
   "source": [
    "fumador_valor = sns.boxplot(x=df[\"fumador\"], y=df[\"valor_seguro\"]): Esta línea crea un diagrama de caja utilizando la función boxplot() de Seaborn. El parámetro x especifica la columna \"fumador\" del DataFrame df como la variable para el eje x, y el parámetro y especifica la columna \"valor_seguro\" del DataFrame df como la variable para el eje y.\n",
    "x=df[\"fumador\"]: Esto indica que se utilizará la columna \"fumador\" del DataFrame df como la variable para el eje x del diagrama de caja. En el eje x, se mostrarán dos categorías: \"yes\" y \"no\", correspondientes a si la persona es fumadora o no.\n",
    "\n",
    "y=df[\"valor_seguro\"]: Esto indica que se utilizará la columna \"valor_seguro\" del DataFrame df como la variable para el eje y del diagrama de caja. En el eje y, se mostrarán los valores numéricos de la columna \"valor_seguro\", que representan los valores de los seguros.\n",
    "\n",
    "El resultado será un diagrama de caja que muestra la distribución de los valores de seguro para las diferentes categorías de fumador (\"yes\" y \"no\"). El diagrama de caja proporciona información sobre la mediana, los cuartiles, los valores atípicos y la dispersión de los datos para cada categoría."
   ]
  },
  {
   "cell_type": "code",
   "execution_count": 16,
   "id": "cb357d8b-2c32-46ba-91f3-95c44e8a45bd",
   "metadata": {
    "tags": []
   },
   "outputs": [
    {
     "data": {
      "image/png": "[encoded data removed]",
      "text/plain": [
       "<Figure size 640x480 with 1 Axes>"
      ]
     },
     "metadata": {},
     "output_type": "display_data"
    }
   ],
   "source": [
    "fumador_valor =sns.boxplot(x=df[\"fumador\"],y=df[\"valor_seguro\"])"
   ]
  },
  {
   "cell_type": "raw",
   "id": "4ea5fd36-11c5-418c-b72e-fa208641e7b4",
   "metadata": {},
   "source": [
    "3-valores porcentualmente pagados al seguro por personas no fumadoras y fumadoras:"
   ]
  },
  {
   "cell_type": "raw",
   "id": "05c429f3-102c-45d0-8278-d2c81a0ec42a",
   "metadata": {},
   "source": [
    "4-Valores porcentualmente pagados al seguro de acuerdo con el rango de edad:"
   ]
  },
  {
   "cell_type": "raw",
   "id": "39cb7ebb-180a-4a26-bfd4-ccae7199a37d",
   "metadata": {},
   "source": [
    "Este código realiza una visualización gráfica de un conjunto de datos utilizando un gráfico de pastel. Permíteme explicarte el código línea por línea:\n",
    "\n",
    "total_rango_edad = df['Rango_Edad'].groupby(df['Rango_Edad']).count(): Aquí se está creando una serie llamada total_rango_edad que contiene el recuento de valores únicos en la columna 'Rango_Edad' de un DataFrame llamado df. El método groupby se utiliza para agrupar los datos por los valores de la columna 'Rango_Edad', y luego se aplica el método count() para obtener el recuento de cada grupo.\n",
    "\n",
    "labels = [\"A\", \"B\", \"C\", \"D\", \"E\"]: Se crea una lista de etiquetas que corresponderán a cada grupo de datos en el gráfico de pastel. En este caso, se utilizan las etiquetas \"A\", \"B\", \"C\", \"D\" y \"E\".\n",
    "\n",
    "colors = sns.color_palette('Set2')[0:5]: Se crea una lista de colores utilizando una paleta de colores de Seaborn llamada 'Set2'. En este caso, se utilizan los primeros cinco colores de la paleta.\n",
    "\n",
    "plt.pie(total_rango_edad, labels=labels, colors=colors, autopct='%.1f%%'): Aquí se utiliza la función pie de Matplotlib para crear el gráfico de pastel. Se le pasan los siguientes parámetros:\n",
    "\n",
    "total_rango_edad: Los datos que se van a representar en el gráfico.\n",
    "labels=labels: Las etiquetas que se van a mostrar en cada porción del gráfico.\n",
    "colors=colors: Los colores que se van a utilizar para cada porción del gráfico.\n",
    "autopct='%.1f%%': La forma en que se mostrarán los porcentajes en cada porción del gráfico. En este caso, se muestra un decimal con un dígito después del punto decimal.\n",
    "plt.show(): Esta línea muestra el gráfico de pastel generado.\n",
    "\n",
    "El código calcula el recuento de valores únicos en la columna 'Rango_Edad' y luego crea un gráfico de pastel utilizando esos datos, con etiquetas y colores específicos para cada porción del gráfico."
   ]
  },
  {
   "cell_type": "code",
   "execution_count": 17,
   "id": "97dd7185-1d79-4a14-955e-4d4cf0c6da61",
   "metadata": {
    "tags": []
   },
   "outputs": [
    {
     "data": {
      "image/png": "[encoded data removed]",
      "text/plain": [
       "<Figure size 640x480 with 1 Axes>"
      ]
     },
     "metadata": {},
     "output_type": "display_data"
    }
   ],
   "source": [
    "total_rango_edad = df['Rango_Edad'].groupby(df['Rango_Edad']).count()\n",
    "labels = [\"A\", \"B\", \"C\", \"D\", \"E\"]\n",
    "colors = sns.color_palette('Set2')[0:5]\n",
    "\n",
    "plt.pie(total_rango_edad, labels = labels, colors = colors, autopct='%.1f%%')\n",
    "plt.show()"
   ]
  },
  {
   "cell_type": "raw",
   "id": "a621efdc-3d62-4aa3-be9c-1f3d64d5c3cf",
   "metadata": {
    "tags": []
   },
   "source": [
    "5-Correlación entre las variables que permiten identificar una cercanía:"
   ]
  },
  {
   "cell_type": "raw",
   "id": "9da706cb-0d09-47fa-be06-6234e9da40e4",
   "metadata": {},
   "source": [
    "df_numeric = df.select_dtypes(include='number'): Aquí se crea un nuevo DataFrame llamado df_numeric que contiene solo las columnas numéricas del DataFrame original df. Se utiliza el método select_dtypes para seleccionar las columnas que tienen tipos de datos numéricos.\n",
    "\n",
    "correlacion = df_numeric.corr(): Se calcula la matriz de correlación utilizando el método corr() del DataFrame df_numeric. La matriz de correlación muestra la relación estadística entre pares de variables numéricas. El resultado se asigna a la variable correlacion.\n",
    "\n",
    "sns.heatmap(correlacion, xticklabels=correlacion.columns, yticklabels=correlacion.columns, annot=True): Aquí se utiliza la función heatmap de Seaborn para generar un mapa de calor a partir de la matriz de correlación. Se le pasan los siguientes parámetros:\n",
    "\n",
    "correlacion: La matriz de correlación que se va a visualizar.\n",
    "xticklabels=correlacion.columns: Las etiquetas que se mostrarán en el eje x del mapa de calor, que corresponden a las columnas del DataFrame.\n",
    "yticklabels=correlacion.columns: Las etiquetas que se mostrarán en el eje y del mapa de calor, que también corresponden a las columnas del DataFrame.\n",
    "annot=True: Se especifica que se mostrarán los valores de correlación como anotaciones en cada celda del mapa de calor.\n",
    "El código selecciona las columnas numéricas de un DataFrame, calcula la matriz de correlación entre esas variables y luego genera un mapa de calor que muestra visualmente los valores de correlación. Esto permite identificar patrones de correlación positiva o negativa entre las variables numéricas."
   ]
  },
  {
   "cell_type": "code",
   "execution_count": 18,
   "id": "0a84b75c-9b86-4ed1-841e-cd11a53184c2",
   "metadata": {
    "tags": []
   },
   "outputs": [
    {
     "data": {
      "text/plain": [
       "<Axes: >"
      ]
     },
     "execution_count": 18,
     "metadata": {},
     "output_type": "execute_result"
    },
    {
     "data": {
      "image/png": "[encoded data removed]",
      "text/plain": [
       "<Figure size 640x480 with 2 Axes>"
      ]
     },
     "metadata": {},
     "output_type": "display_data"
    }
   ],
   "source": [
    "df_numeric = df.select_dtypes(include='number')\n",
    "\n",
    "correlacion = df_numeric.corr()\n",
    "sns.heatmap(correlacion, xticklabels=correlacion.columns, yticklabels=correlacion.columns, annot=True)"
   ]
  },
  {
   "cell_type": "raw",
   "id": "f95fd5ad-1539-4d15-8098-432c5612555b",
   "metadata": {},
   "source": [
    "6-Relaciones multivariado: para realizar el análisis multivariado que implica más de dos variables, se tendrán en cuenta las que tienen una relación más cercana, como lo son el índice de masa corporal, la edad con respecto al valor pagado al seguro y una variable muy importante que se ha descubierto, que es la de fumador; se relacionarán tres variables en un mismo gráfico, con el objetivo de observar patrones."
   ]
  },
  {
   "cell_type": "raw",
   "id": "86800cb8-77f6-4d9e-9f3a-7f39d64df495",
   "metadata": {
    "tags": []
   },
   "source": [
    "A-Relación tres variables: valor seguro, rango de edad y el índice de masa corporal:"
   ]
  },
  {
   "cell_type": "raw",
   "id": "729be5c6-13f8-4357-95ac-79bc3c3712b9",
   "metadata": {
    "tags": []
   },
   "source": [
    "sns.relplot(x='Rango_Edad', y='valor_seguro', hue='imc', data=df): Aquí se utiliza la función relplot de Seaborn para generar el gráfico de dispersión. Se le pasan los siguientes parámetros:\n",
    "x='Rango_Edad': Especifica la columna del DataFrame df que se utilizará para los valores del eje x en el gráfico de dispersión.\n",
    "y='valor_seguro': Especifica la columna del DataFrame df que se utilizará para los valores del eje y en el gráfico de dispersión.\n",
    "hue='imc': Especifica la columna del DataFrame df que se utilizará para codificar el color de los puntos en el gráfico de dispersión. Cada valor único en la columna 'imc' se asignará a un color diferente.\n",
    "data=df: Especifica el DataFrame que contiene los datos a visualizar.\n",
    "El gráfico de dispersión resultante mostrará en el eje x los valores de la columna 'Rango_Edad', en el eje y los valores de la columna 'valor_seguro' y utilizará el color para representar los diferentes valores de la columna 'imc'. Esto permite analizar visualmente la relación entre las variables 'Rango_Edad' y 'valor_seguro' y cómo se relacionan con la variable 'imc'. Cada punto en el gráfico representa una observación individual en el DataFrame."
   ]
  },
  {
   "cell_type": "code",
   "execution_count": 19,
   "id": "a26cfb84-4ed4-466b-adcf-267b8b538563",
   "metadata": {
    "tags": []
   },
   "outputs": [
    {
     "data": {
      "text/plain": [
       "<seaborn.axisgrid.FacetGrid at 0x7f0852e577d0>"
      ]
     },
     "execution_count": 19,
     "metadata": {},
     "output_type": "execute_result"
    },
    {
     "data": {
      "image/png": "[encoded data removed]",
      "text/plain": [
       "<Figure size 567.75x500 with 1 Axes>"
      ]
     },
     "metadata": {},
     "output_type": "display_data"
    }
   ],
   "source": [
    "sns.relplot(x='Rango_Edad' ,y='valor_seguro',hue='imc',data=df)"
   ]
  },
  {
   "cell_type": "raw",
   "id": "dac6213d-1d8c-4b48-b006-2353e1753b45",
   "metadata": {
    "tags": []
   },
   "source": [
    "B-Relaciona tres variables: valor seguro, rango de edad y el indicador de fumador:\n"
   ]
  },
  {
   "cell_type": "raw",
   "id": "e8b5097d-7adc-4f47-b92d-0365ffc1ad31",
   "metadata": {
    "tags": []
   },
   "source": [
    "sns.relplot(x='Rango_Edad', y='valor_seguro', hue='fumador', data=df): Aquí se utiliza la función relplot de Seaborn para generar el gráfico de dispersión. Se le pasan los siguientes parámetros:\n",
    "x='Rango_Edad': Especifica la columna del DataFrame df que se utilizará para los valores del eje x en el gráfico de dispersión.\n",
    "y='valor_seguro': Especifica la columna del DataFrame df que se utilizará para los valores del eje y en el gráfico de dispersión.\n",
    "hue='fumador': Especifica la columna del DataFrame df que se utilizará para codificar el color de los puntos en el gráfico de dispersión. Cada valor único en la columna 'fumador' se asignará a un color diferente.\n",
    "data=df: Especifica el DataFrame que contiene los datos a visualizar.\n",
    "El gráfico de dispersión resultante mostrará en el eje x los valores de la columna 'Rango_Edad', en el eje y los valores de la columna 'valor_seguro' y utilizará el color para representar los diferentes valores de la columna 'fumador'. Esto permite analizar visualmente la relación entre las variables 'Rango_Edad' y 'valor_seguro' y cómo se relacionan con la variable 'fumador'. Cada punto en el gráfico representa una observación individual en el DataFrame y su color indica si la persona es fumadora o no."
   ]
  },
  {
   "cell_type": "code",
   "execution_count": 20,
   "id": "eb1a6f23-4aa2-45df-8776-70a2d1dce4d5",
   "metadata": {
    "tags": []
   },
   "outputs": [
    {
     "data": {
      "text/plain": [
       "<seaborn.axisgrid.FacetGrid at 0x7f0852cea590>"
      ]
     },
     "execution_count": 20,
     "metadata": {},
     "output_type": "execute_result"
    },
    {
     "data": {
      "image/png": "[encoded data removed]",
      "text/plain": [
       "<Figure size 573.875x500 with 1 Axes>"
      ]
     },
     "metadata": {},
     "output_type": "display_data"
    }
   ],
   "source": [
    "sns.relplot(x='Rango_Edad',\n",
    "y='valor_seguro',hue='fumador',data=df)"
   ]
  },
  {
   "cell_type": "raw",
   "id": "be0414d9-17d0-4843-8aae-286443162b34",
   "metadata": {
    "tags": []
   },
   "source": [
    "C-Relación rango de edad y estado fumador con los valores del seguro:"
   ]
  },
  {
   "cell_type": "raw",
   "id": "206cd88b-be54-45b9-878c-96c8d67048c1",
   "metadata": {
    "tags": []
   },
   "source": [
    "Este código utiliza la función barplot de Seaborn para crear un gráfico de barras con datos de un DataFrame df, donde se muestra la relación entre la columna 'region', la columna 'valor_seguro' y se utiliza la columna 'fumador' para codificar el color de las barras. Permíteme explicarte el código línea por línea:\n",
    "\n",
    "sns.barplot(data=df, x='region', y='valor_seguro', hue='fumador'): Aquí se utiliza la función barplot de Seaborn para generar el gráfico de barras. Se le pasan los siguientes parámetros:\n",
    "data=df: Especifica el DataFrame que contiene los datos a visualizar.\n",
    "x='region': Especifica la columna del DataFrame df que se utilizará para las etiquetas del eje x en el gráfico de barras. Cada categoría única en la columna 'region' se mostrará en el eje x.\n",
    "y='valor_seguro': Especifica la columna del DataFrame df que se utilizará para los valores del eje y en el gráfico de barras. En este caso, se utilizarán los valores de la columna 'valor_seguro'.\n",
    "hue='fumador': Especifica la columna del DataFrame df que se utilizará para codificar el color de las barras en el gráfico. Cada categoría única en la columna 'fumador' se asignará a un color diferente.\n",
    "El gráfico de barras resultante mostrará las diferentes categorías de la columna 'region' en el eje x, los valores de la columna 'valor_seguro' en el eje y y utilizará el color de las barras para representar la variable 'fumador'. Esto permite comparar visualmente los valores de 'valor_seguro' en función de las diferentes regiones, y además, se puede observar cómo se distribuyen las categorías de 'fumador' en cada región. Cada barra representa una región y su altura indica el valor promedio de 'valor_seguro', mientras que el color de la barra indica la proporción de fumadores y no fumadores en esa región."
   ]
  },
  {
   "cell_type": "code",
   "execution_count": 21,
   "id": "74cd0193-091d-4211-abc6-ac9425fc4016",
   "metadata": {
    "tags": []
   },
   "outputs": [
    {
     "data": {
      "text/plain": [
       "<Axes: xlabel='region', ylabel='valor_seguro'>"
      ]
     },
     "execution_count": 21,
     "metadata": {},
     "output_type": "execute_result"
    },
    {
     "data": {
      "image/png": "[encoded data removed]",
      "text/plain": [
       "<Figure size 640x480 with 1 Axes>"
      ]
     },
     "metadata": {},
     "output_type": "display_data"
    }
   ],
   "source": [
    "sns.barplot(data=df,x='region',y='valor_seguro',hue='fumador')"
   ]
  },
  {
   "cell_type": "raw",
   "id": "87748e66-9949-4004-b60b-c594b54301a1",
   "metadata": {
    "tags": []
   },
   "source": [
    "CONCLUSIONES"
   ]
  },
  {
   "cell_type": "raw",
   "id": "aaec0453-fb3c-49d3-8e2b-05022f71b6aa",
   "metadata": {
    "tags": []
   },
   "source": [
    "Partiendo de las preguntas planteadas y los resultados obtenidos en el análisis de un solo dato y multivariado, se pueden generar las siguientes conclusiones:\n",
    "\n",
    "-El 79.5 % de los registros analizados no son fumadores.\n",
    "\n",
    "-Cerca del 45 % de los clientes no tienen hijos.\n",
    "\n",
    "-Aproximadamente, el 70 % de los clientes tiene al menos un hijo.\n",
    "\n",
    "-El rango de edad para el rango A representa cerca del 30 % del total de registros.\n",
    "\n",
    "-Los valores pagados al seguro por los clientes identificados como fumadores equivalen al 50 % del total.\n",
    "\n",
    "-A pesar de que los clientes no fumadores equivalen al 79.5 %, solo representan el 50 % del valor total del seguro.\n",
    "\n",
    "-La región no es determinante en el valor del seguro.\n",
    "\n",
    "Lo más relevante en los valores pagados al seguro se dio en personas que son fumadores"
   ]
  },
  {
   "cell_type": "code",
   "execution_count": null,
   "id": "c0b3df6c",
   "metadata": {},
   "outputs": [],
   "source": []
  }
 ],
 "metadata": {
  "kernelspec": {
   "display_name": "Python 3 (ipykernel)",
   "language": "python",
   "name": "python3"
  },
  "language_info": {
   "codemirror_mode": {
    "name": "ipython",
    "version": 3
   },
   "file_extension": ".py",
   "mimetype": "text/x-python",
   "name": "python",
   "nbconvert_exporter": "python",
   "pygments_lexer": "ipython3",
   "version": "3.11.3"
  }
 },
 "nbformat": 4,
 "nbformat_minor": 5
}
